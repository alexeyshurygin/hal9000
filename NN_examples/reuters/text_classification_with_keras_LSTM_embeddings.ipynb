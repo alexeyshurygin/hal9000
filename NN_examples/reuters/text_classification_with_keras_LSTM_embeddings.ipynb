{
 "cells": [
  {
   "cell_type": "code",
   "execution_count": 2,
   "metadata": {},
   "outputs": [],
   "source": [
    "import os\n",
    "import numpy as np\n",
    "import pandas as pd\n",
    "import matplotlib.pyplot as plt\n",
    "import re\n",
    "import sklearn\n",
    "import sklearn.preprocessing\n",
    "\n",
    "from scipy import sparse\n",
    "\n",
    "import numpy as np\n",
    "import pandas as pd\n",
    "import pickle\n",
    "from keras.preprocessing.text import Tokenizer\n",
    "from keras.models import Sequential\n",
    "from keras.layers import Activation, Dense, Dropout, LSTM, Input, Embedding\n",
    "from keras.models import Model\n",
    "from sklearn.preprocessing import LabelBinarizer\n",
    "import sklearn.datasets as skds\n",
    "from pathlib import Path\n",
    "\n",
    "import nltk\n",
    "nltk.download('stopwords')\n",
    "import nltk.corpus\n",
    "import nltk.stem.porter\n",
    "import nltk.stem.lancaster\n",
    "import nltk.stem.wordnet"
   ]
  },
  {
   "cell_type": "markdown",
   "metadata": {},
   "source": [
    "# 1. Load data"
   ]
  },
  {
   "cell_type": "code",
   "execution_count": 2,
   "metadata": {},
   "outputs": [],
   "source": [
    "csv_df = pd.read_csv('reutersCSV.csv', encoding='iso-8859-1', keep_default_na=False)"
   ]
  },
  {
   "cell_type": "code",
   "execution_count": 3,
   "metadata": {},
   "outputs": [
    {
     "data": {
      "text/html": [
       "<div>\n",
       "<style scoped>\n",
       "    .dataframe tbody tr th:only-of-type {\n",
       "        vertical-align: middle;\n",
       "    }\n",
       "\n",
       "    .dataframe tbody tr th {\n",
       "        vertical-align: top;\n",
       "    }\n",
       "\n",
       "    .dataframe thead th {\n",
       "        text-align: right;\n",
       "    }\n",
       "</style>\n",
       "<table border=\"1\" class=\"dataframe\">\n",
       "  <thead>\n",
       "    <tr style=\"text-align: right;\">\n",
       "      <th></th>\n",
       "      <th>pid</th>\n",
       "      <th>fileName</th>\n",
       "      <th>purpose</th>\n",
       "      <th>topic.acq</th>\n",
       "      <th>topic.alum</th>\n",
       "      <th>topic.austdlr</th>\n",
       "      <th>topic.austral</th>\n",
       "      <th>topic.barley</th>\n",
       "      <th>topic.bfr</th>\n",
       "      <th>topic.bop</th>\n",
       "      <th>...</th>\n",
       "      <th>topic.tung</th>\n",
       "      <th>topic.tung.oil</th>\n",
       "      <th>topic.veg.oil</th>\n",
       "      <th>topic.wheat</th>\n",
       "      <th>topic.wool</th>\n",
       "      <th>topic.wpi</th>\n",
       "      <th>topic.yen</th>\n",
       "      <th>topic.zinc</th>\n",
       "      <th>doc.title</th>\n",
       "      <th>doc.text</th>\n",
       "    </tr>\n",
       "  </thead>\n",
       "  <tbody>\n",
       "    <tr>\n",
       "      <th>0</th>\n",
       "      <td>1</td>\n",
       "      <td>0</td>\n",
       "      <td>train</td>\n",
       "      <td>0</td>\n",
       "      <td>0</td>\n",
       "      <td>0</td>\n",
       "      <td>0</td>\n",
       "      <td>0</td>\n",
       "      <td>0</td>\n",
       "      <td>0</td>\n",
       "      <td>...</td>\n",
       "      <td>0</td>\n",
       "      <td>0</td>\n",
       "      <td>0</td>\n",
       "      <td>0</td>\n",
       "      <td>0</td>\n",
       "      <td>0</td>\n",
       "      <td>0</td>\n",
       "      <td>0</td>\n",
       "      <td>BAHIA COCOA REVIEW</td>\n",
       "      <td>Showers continued throughout the week in the B...</td>\n",
       "    </tr>\n",
       "    <tr>\n",
       "      <th>1</th>\n",
       "      <td>2</td>\n",
       "      <td>0</td>\n",
       "      <td>train</td>\n",
       "      <td>0</td>\n",
       "      <td>0</td>\n",
       "      <td>0</td>\n",
       "      <td>0</td>\n",
       "      <td>0</td>\n",
       "      <td>0</td>\n",
       "      <td>0</td>\n",
       "      <td>...</td>\n",
       "      <td>0</td>\n",
       "      <td>0</td>\n",
       "      <td>0</td>\n",
       "      <td>0</td>\n",
       "      <td>0</td>\n",
       "      <td>0</td>\n",
       "      <td>0</td>\n",
       "      <td>0</td>\n",
       "      <td>STANDARD OIL &amp;lt;SRD&gt; TO FORM FINANCIAL UNIT</td>\n",
       "      <td>Standard Oil Co and BP North America Inc said ...</td>\n",
       "    </tr>\n",
       "    <tr>\n",
       "      <th>2</th>\n",
       "      <td>3</td>\n",
       "      <td>0</td>\n",
       "      <td>train</td>\n",
       "      <td>0</td>\n",
       "      <td>0</td>\n",
       "      <td>0</td>\n",
       "      <td>0</td>\n",
       "      <td>0</td>\n",
       "      <td>0</td>\n",
       "      <td>0</td>\n",
       "      <td>...</td>\n",
       "      <td>0</td>\n",
       "      <td>0</td>\n",
       "      <td>0</td>\n",
       "      <td>0</td>\n",
       "      <td>0</td>\n",
       "      <td>0</td>\n",
       "      <td>0</td>\n",
       "      <td>0</td>\n",
       "      <td>TEXAS COMMERCE BANCSHARES &amp;lt;TCB&gt; FILES PLAN</td>\n",
       "      <td>Texas Commerce Bancshares Inc's Texas Commerce...</td>\n",
       "    </tr>\n",
       "    <tr>\n",
       "      <th>3</th>\n",
       "      <td>4</td>\n",
       "      <td>0</td>\n",
       "      <td>train</td>\n",
       "      <td>0</td>\n",
       "      <td>0</td>\n",
       "      <td>0</td>\n",
       "      <td>0</td>\n",
       "      <td>0</td>\n",
       "      <td>0</td>\n",
       "      <td>0</td>\n",
       "      <td>...</td>\n",
       "      <td>0</td>\n",
       "      <td>0</td>\n",
       "      <td>0</td>\n",
       "      <td>0</td>\n",
       "      <td>0</td>\n",
       "      <td>0</td>\n",
       "      <td>0</td>\n",
       "      <td>0</td>\n",
       "      <td>TALKING POINT/BANKAMERICA &amp;lt;BAC&gt; EQUITY OFFER</td>\n",
       "      <td>BankAmerica Corp is not under pressure to act ...</td>\n",
       "    </tr>\n",
       "    <tr>\n",
       "      <th>4</th>\n",
       "      <td>5</td>\n",
       "      <td>0</td>\n",
       "      <td>train</td>\n",
       "      <td>0</td>\n",
       "      <td>0</td>\n",
       "      <td>0</td>\n",
       "      <td>0</td>\n",
       "      <td>1</td>\n",
       "      <td>0</td>\n",
       "      <td>0</td>\n",
       "      <td>...</td>\n",
       "      <td>0</td>\n",
       "      <td>0</td>\n",
       "      <td>0</td>\n",
       "      <td>1</td>\n",
       "      <td>0</td>\n",
       "      <td>0</td>\n",
       "      <td>0</td>\n",
       "      <td>0</td>\n",
       "      <td>NATIONAL AVERAGE PRICES FOR FARMER-OWNED RESERVE</td>\n",
       "      <td>The U.S. Agriculture Department reported the f...</td>\n",
       "    </tr>\n",
       "  </tbody>\n",
       "</table>\n",
       "<p>5 rows × 140 columns</p>\n",
       "</div>"
      ],
      "text/plain": [
       "   pid  fileName purpose  topic.acq  topic.alum  topic.austdlr  topic.austral  \\\n",
       "0    1         0   train          0           0              0              0   \n",
       "1    2         0   train          0           0              0              0   \n",
       "2    3         0   train          0           0              0              0   \n",
       "3    4         0   train          0           0              0              0   \n",
       "4    5         0   train          0           0              0              0   \n",
       "\n",
       "   topic.barley  topic.bfr  topic.bop  \\\n",
       "0             0          0          0   \n",
       "1             0          0          0   \n",
       "2             0          0          0   \n",
       "3             0          0          0   \n",
       "4             1          0          0   \n",
       "\n",
       "                         ...                          topic.tung  \\\n",
       "0                        ...                                   0   \n",
       "1                        ...                                   0   \n",
       "2                        ...                                   0   \n",
       "3                        ...                                   0   \n",
       "4                        ...                                   0   \n",
       "\n",
       "   topic.tung.oil  topic.veg.oil  topic.wheat  topic.wool  topic.wpi  \\\n",
       "0               0              0            0           0          0   \n",
       "1               0              0            0           0          0   \n",
       "2               0              0            0           0          0   \n",
       "3               0              0            0           0          0   \n",
       "4               0              0            1           0          0   \n",
       "\n",
       "   topic.yen  topic.zinc                                         doc.title  \\\n",
       "0          0           0                                BAHIA COCOA REVIEW   \n",
       "1          0           0      STANDARD OIL &lt;SRD> TO FORM FINANCIAL UNIT   \n",
       "2          0           0     TEXAS COMMERCE BANCSHARES &lt;TCB> FILES PLAN   \n",
       "3          0           0   TALKING POINT/BANKAMERICA &lt;BAC> EQUITY OFFER   \n",
       "4          0           0  NATIONAL AVERAGE PRICES FOR FARMER-OWNED RESERVE   \n",
       "\n",
       "                                            doc.text  \n",
       "0  Showers continued throughout the week in the B...  \n",
       "1  Standard Oil Co and BP North America Inc said ...  \n",
       "2  Texas Commerce Bancshares Inc's Texas Commerce...  \n",
       "3  BankAmerica Corp is not under pressure to act ...  \n",
       "4  The U.S. Agriculture Department reported the f...  \n",
       "\n",
       "[5 rows x 140 columns]"
      ]
     },
     "execution_count": 3,
     "metadata": {},
     "output_type": "execute_result"
    }
   ],
   "source": [
    "csv_df.head()"
   ]
  },
  {
   "cell_type": "markdown",
   "metadata": {},
   "source": [
    "# 2. Train/test split"
   ]
  },
  {
   "cell_type": "code",
   "execution_count": 4,
   "metadata": {},
   "outputs": [],
   "source": [
    "csv_df_train = csv_df[csv_df.purpose == 'train']; csv_df_test = csv_df[csv_df.purpose == 'test']"
   ]
  },
  {
   "cell_type": "markdown",
   "metadata": {},
   "source": [
    "# 3. Preprocess data"
   ]
  },
  {
   "cell_type": "code",
   "execution_count": 5,
   "metadata": {},
   "outputs": [
    {
     "data": {
      "text/html": [
       "<div>\n",
       "<style scoped>\n",
       "    .dataframe tbody tr th:only-of-type {\n",
       "        vertical-align: middle;\n",
       "    }\n",
       "\n",
       "    .dataframe tbody tr th {\n",
       "        vertical-align: top;\n",
       "    }\n",
       "\n",
       "    .dataframe thead th {\n",
       "        text-align: right;\n",
       "    }\n",
       "</style>\n",
       "<table border=\"1\" class=\"dataframe\">\n",
       "  <thead>\n",
       "    <tr style=\"text-align: right;\">\n",
       "      <th></th>\n",
       "      <th>pid</th>\n",
       "      <th>fileName</th>\n",
       "      <th>purpose</th>\n",
       "      <th>topic.acq</th>\n",
       "      <th>topic.alum</th>\n",
       "      <th>topic.austdlr</th>\n",
       "      <th>topic.austral</th>\n",
       "      <th>topic.barley</th>\n",
       "      <th>topic.bfr</th>\n",
       "      <th>topic.bop</th>\n",
       "      <th>...</th>\n",
       "      <th>topic.tung</th>\n",
       "      <th>topic.tung.oil</th>\n",
       "      <th>topic.veg.oil</th>\n",
       "      <th>topic.wheat</th>\n",
       "      <th>topic.wool</th>\n",
       "      <th>topic.wpi</th>\n",
       "      <th>topic.yen</th>\n",
       "      <th>topic.zinc</th>\n",
       "      <th>doc.title</th>\n",
       "      <th>doc.text</th>\n",
       "    </tr>\n",
       "  </thead>\n",
       "  <tbody>\n",
       "    <tr>\n",
       "      <th>0</th>\n",
       "      <td>1</td>\n",
       "      <td>0</td>\n",
       "      <td>train</td>\n",
       "      <td>0</td>\n",
       "      <td>0</td>\n",
       "      <td>0</td>\n",
       "      <td>0</td>\n",
       "      <td>0</td>\n",
       "      <td>0</td>\n",
       "      <td>0</td>\n",
       "      <td>...</td>\n",
       "      <td>0</td>\n",
       "      <td>0</td>\n",
       "      <td>0</td>\n",
       "      <td>0</td>\n",
       "      <td>0</td>\n",
       "      <td>0</td>\n",
       "      <td>0</td>\n",
       "      <td>0</td>\n",
       "      <td>BAHIA COCOA REVIEW</td>\n",
       "      <td>Showers continued throughout the week in the B...</td>\n",
       "    </tr>\n",
       "    <tr>\n",
       "      <th>1</th>\n",
       "      <td>2</td>\n",
       "      <td>0</td>\n",
       "      <td>train</td>\n",
       "      <td>0</td>\n",
       "      <td>0</td>\n",
       "      <td>0</td>\n",
       "      <td>0</td>\n",
       "      <td>0</td>\n",
       "      <td>0</td>\n",
       "      <td>0</td>\n",
       "      <td>...</td>\n",
       "      <td>0</td>\n",
       "      <td>0</td>\n",
       "      <td>0</td>\n",
       "      <td>0</td>\n",
       "      <td>0</td>\n",
       "      <td>0</td>\n",
       "      <td>0</td>\n",
       "      <td>0</td>\n",
       "      <td>STANDARD OIL &amp;lt;SRD&gt; TO FORM FINANCIAL UNIT</td>\n",
       "      <td>Standard Oil Co and BP North America Inc said ...</td>\n",
       "    </tr>\n",
       "    <tr>\n",
       "      <th>2</th>\n",
       "      <td>3</td>\n",
       "      <td>0</td>\n",
       "      <td>train</td>\n",
       "      <td>0</td>\n",
       "      <td>0</td>\n",
       "      <td>0</td>\n",
       "      <td>0</td>\n",
       "      <td>0</td>\n",
       "      <td>0</td>\n",
       "      <td>0</td>\n",
       "      <td>...</td>\n",
       "      <td>0</td>\n",
       "      <td>0</td>\n",
       "      <td>0</td>\n",
       "      <td>0</td>\n",
       "      <td>0</td>\n",
       "      <td>0</td>\n",
       "      <td>0</td>\n",
       "      <td>0</td>\n",
       "      <td>TEXAS COMMERCE BANCSHARES &amp;lt;TCB&gt; FILES PLAN</td>\n",
       "      <td>Texas Commerce Bancshares Inc's Texas Commerce...</td>\n",
       "    </tr>\n",
       "    <tr>\n",
       "      <th>3</th>\n",
       "      <td>4</td>\n",
       "      <td>0</td>\n",
       "      <td>train</td>\n",
       "      <td>0</td>\n",
       "      <td>0</td>\n",
       "      <td>0</td>\n",
       "      <td>0</td>\n",
       "      <td>0</td>\n",
       "      <td>0</td>\n",
       "      <td>0</td>\n",
       "      <td>...</td>\n",
       "      <td>0</td>\n",
       "      <td>0</td>\n",
       "      <td>0</td>\n",
       "      <td>0</td>\n",
       "      <td>0</td>\n",
       "      <td>0</td>\n",
       "      <td>0</td>\n",
       "      <td>0</td>\n",
       "      <td>TALKING POINT/BANKAMERICA &amp;lt;BAC&gt; EQUITY OFFER</td>\n",
       "      <td>BankAmerica Corp is not under pressure to act ...</td>\n",
       "    </tr>\n",
       "    <tr>\n",
       "      <th>4</th>\n",
       "      <td>5</td>\n",
       "      <td>0</td>\n",
       "      <td>train</td>\n",
       "      <td>0</td>\n",
       "      <td>0</td>\n",
       "      <td>0</td>\n",
       "      <td>0</td>\n",
       "      <td>1</td>\n",
       "      <td>0</td>\n",
       "      <td>0</td>\n",
       "      <td>...</td>\n",
       "      <td>0</td>\n",
       "      <td>0</td>\n",
       "      <td>0</td>\n",
       "      <td>1</td>\n",
       "      <td>0</td>\n",
       "      <td>0</td>\n",
       "      <td>0</td>\n",
       "      <td>0</td>\n",
       "      <td>NATIONAL AVERAGE PRICES FOR FARMER-OWNED RESERVE</td>\n",
       "      <td>The U.S. Agriculture Department reported the f...</td>\n",
       "    </tr>\n",
       "  </tbody>\n",
       "</table>\n",
       "<p>5 rows × 140 columns</p>\n",
       "</div>"
      ],
      "text/plain": [
       "   pid  fileName purpose  topic.acq  topic.alum  topic.austdlr  topic.austral  \\\n",
       "0    1         0   train          0           0              0              0   \n",
       "1    2         0   train          0           0              0              0   \n",
       "2    3         0   train          0           0              0              0   \n",
       "3    4         0   train          0           0              0              0   \n",
       "4    5         0   train          0           0              0              0   \n",
       "\n",
       "   topic.barley  topic.bfr  topic.bop  \\\n",
       "0             0          0          0   \n",
       "1             0          0          0   \n",
       "2             0          0          0   \n",
       "3             0          0          0   \n",
       "4             1          0          0   \n",
       "\n",
       "                         ...                          topic.tung  \\\n",
       "0                        ...                                   0   \n",
       "1                        ...                                   0   \n",
       "2                        ...                                   0   \n",
       "3                        ...                                   0   \n",
       "4                        ...                                   0   \n",
       "\n",
       "   topic.tung.oil  topic.veg.oil  topic.wheat  topic.wool  topic.wpi  \\\n",
       "0               0              0            0           0          0   \n",
       "1               0              0            0           0          0   \n",
       "2               0              0            0           0          0   \n",
       "3               0              0            0           0          0   \n",
       "4               0              0            1           0          0   \n",
       "\n",
       "   topic.yen  topic.zinc                                         doc.title  \\\n",
       "0          0           0                                BAHIA COCOA REVIEW   \n",
       "1          0           0      STANDARD OIL &lt;SRD> TO FORM FINANCIAL UNIT   \n",
       "2          0           0     TEXAS COMMERCE BANCSHARES &lt;TCB> FILES PLAN   \n",
       "3          0           0   TALKING POINT/BANKAMERICA &lt;BAC> EQUITY OFFER   \n",
       "4          0           0  NATIONAL AVERAGE PRICES FOR FARMER-OWNED RESERVE   \n",
       "\n",
       "                                            doc.text  \n",
       "0  Showers continued throughout the week in the B...  \n",
       "1  Standard Oil Co and BP North America Inc said ...  \n",
       "2  Texas Commerce Bancshares Inc's Texas Commerce...  \n",
       "3  BankAmerica Corp is not under pressure to act ...  \n",
       "4  The U.S. Agriculture Department reported the f...  \n",
       "\n",
       "[5 rows x 140 columns]"
      ]
     },
     "execution_count": 5,
     "metadata": {},
     "output_type": "execute_result"
    }
   ],
   "source": [
    "csv_df_train.head()"
   ]
  },
  {
   "cell_type": "code",
   "execution_count": 6,
   "metadata": {},
   "outputs": [
    {
     "name": "stdout",
     "output_type": "stream",
     "text": [
      "STANDARD OIL &lt;SRD> TO FORM FINANCIAL UNIT \n",
      "\n",
      " Standard Oil Co and BP North America Inc said they plan to form a venture to manage the money market borrowing and investment activities of both companies.     BP North America is a subsidiary of British Petroleum Co Plc &lt;BP>, which also owns a 55 pct interest in Standard Oil.     The venture will be called BP/Standard Financial Trading and will be operated by Standard Oil under the oversight of a joint management committee.   Reuter \n"
     ]
    }
   ],
   "source": [
    "# Let's look what text fields llok like\n",
    "title, text = csv_df_train.iloc[1][['doc.title', 'doc.text']]\n",
    "print(title, '\\n\\n', text)"
   ]
  },
  {
   "cell_type": "markdown",
   "metadata": {},
   "source": [
    "### Let's look at labels"
   ]
  },
  {
   "cell_type": "code",
   "execution_count": 7,
   "metadata": {},
   "outputs": [],
   "source": [
    "label_df_train = csv_df_train.iloc[:,3:-2]"
   ]
  },
  {
   "cell_type": "code",
   "execution_count": 8,
   "metadata": {},
   "outputs": [
    {
     "data": {
      "text/plain": [
       "((14668, 135), (14668, 140))"
      ]
     },
     "execution_count": 8,
     "metadata": {},
     "output_type": "execute_result"
    }
   ],
   "source": [
    "label_df_train.shape, csv_df_train.shape"
   ]
  },
  {
   "cell_type": "code",
   "execution_count": 9,
   "metadata": {},
   "outputs": [],
   "source": [
    "number_of_documents_per_label = label_df_train.sum()"
   ]
  },
  {
   "cell_type": "code",
   "execution_count": 10,
   "metadata": {},
   "outputs": [
    {
     "name": "stdout",
     "output_type": "stream",
     "text": [
      "0 2877\n"
     ]
    },
    {
     "data": {
      "text/plain": [
       "<matplotlib.axes._subplots.AxesSubplot at 0x7f6632bbaac8>"
      ]
     },
     "execution_count": 10,
     "metadata": {},
     "output_type": "execute_result"
    },
    {
     "data": {
      "image/png": "[encoded data removed]",
      "text/plain": [
       "<Figure size 432x288 with 1 Axes>"
      ]
     },
     "metadata": {},
     "output_type": "display_data"
    }
   ],
   "source": [
    "print(number_of_documents_per_label.min(), number_of_documents_per_label.max())\n",
    "number_of_documents_per_label.hist()"
   ]
  },
  {
   "cell_type": "code",
   "execution_count": 11,
   "metadata": {},
   "outputs": [
    {
     "data": {
      "text/plain": [
       "<matplotlib.axes._subplots.AxesSubplot at 0x7f6631581c88>"
      ]
     },
     "execution_count": 11,
     "metadata": {},
     "output_type": "execute_result"
    },
    {
     "data": {
      "image/png": "[encoded data removed]",
      "text/plain": [
       "<Figure size 432x288 with 1 Axes>"
      ]
     },
     "metadata": {},
     "output_type": "display_data"
    }
   ],
   "source": [
    "number_of_documents_per_label[number_of_documents_per_label < 1000].hist()"
   ]
  },
  {
   "cell_type": "code",
   "execution_count": 12,
   "metadata": {},
   "outputs": [],
   "source": [
    "well_represented_topics = number_of_documents_per_label[number_of_documents_per_label > 100].index"
   ]
  },
  {
   "cell_type": "code",
   "execution_count": 13,
   "metadata": {},
   "outputs": [
    {
     "data": {
      "text/plain": [
       "Index(['topic.acq', 'topic.coffee', 'topic.corn', 'topic.crude', 'topic.dlr',\n",
       "       'topic.earn', 'topic.gnp', 'topic.grain', 'topic.interest',\n",
       "       'topic.money.fx', 'topic.money.supply', 'topic.oilseed', 'topic.ship',\n",
       "       'topic.sugar', 'topic.trade', 'topic.wheat'],\n",
       "      dtype='object')"
      ]
     },
     "execution_count": 13,
     "metadata": {},
     "output_type": "execute_result"
    }
   ],
   "source": [
    "well_represented_topics"
   ]
  },
  {
   "cell_type": "markdown",
   "metadata": {},
   "source": [
    "### Leave only well represented topics"
   ]
  },
  {
   "cell_type": "code",
   "execution_count": 14,
   "metadata": {},
   "outputs": [],
   "source": [
    "df_train = csv_df_train[['pid', 'doc.title', 'doc.text'] + well_represented_topics.tolist()]\n",
    "df_test = csv_df_test[['pid', 'doc.title', 'doc.text'] + well_represented_topics.tolist()]"
   ]
  },
  {
   "cell_type": "code",
   "execution_count": 15,
   "metadata": {},
   "outputs": [
    {
     "data": {
      "text/html": [
       "<div>\n",
       "<style scoped>\n",
       "    .dataframe tbody tr th:only-of-type {\n",
       "        vertical-align: middle;\n",
       "    }\n",
       "\n",
       "    .dataframe tbody tr th {\n",
       "        vertical-align: top;\n",
       "    }\n",
       "\n",
       "    .dataframe thead th {\n",
       "        text-align: right;\n",
       "    }\n",
       "</style>\n",
       "<table border=\"1\" class=\"dataframe\">\n",
       "  <thead>\n",
       "    <tr style=\"text-align: right;\">\n",
       "      <th></th>\n",
       "      <th>pid</th>\n",
       "      <th>doc.title</th>\n",
       "      <th>doc.text</th>\n",
       "      <th>topic.acq</th>\n",
       "      <th>topic.coffee</th>\n",
       "      <th>topic.corn</th>\n",
       "      <th>topic.crude</th>\n",
       "      <th>topic.dlr</th>\n",
       "      <th>topic.earn</th>\n",
       "      <th>topic.gnp</th>\n",
       "      <th>topic.grain</th>\n",
       "      <th>topic.interest</th>\n",
       "      <th>topic.money.fx</th>\n",
       "      <th>topic.money.supply</th>\n",
       "      <th>topic.oilseed</th>\n",
       "      <th>topic.ship</th>\n",
       "      <th>topic.sugar</th>\n",
       "      <th>topic.trade</th>\n",
       "      <th>topic.wheat</th>\n",
       "    </tr>\n",
       "  </thead>\n",
       "  <tbody>\n",
       "    <tr>\n",
       "      <th>0</th>\n",
       "      <td>1</td>\n",
       "      <td>BAHIA COCOA REVIEW</td>\n",
       "      <td>Showers continued throughout the week in the B...</td>\n",
       "      <td>0</td>\n",
       "      <td>0</td>\n",
       "      <td>0</td>\n",
       "      <td>0</td>\n",
       "      <td>0</td>\n",
       "      <td>0</td>\n",
       "      <td>0</td>\n",
       "      <td>0</td>\n",
       "      <td>0</td>\n",
       "      <td>0</td>\n",
       "      <td>0</td>\n",
       "      <td>0</td>\n",
       "      <td>0</td>\n",
       "      <td>0</td>\n",
       "      <td>0</td>\n",
       "      <td>0</td>\n",
       "    </tr>\n",
       "  </tbody>\n",
       "</table>\n",
       "</div>"
      ],
      "text/plain": [
       "   pid           doc.title                                           doc.text  \\\n",
       "0    1  BAHIA COCOA REVIEW  Showers continued throughout the week in the B...   \n",
       "\n",
       "   topic.acq  topic.coffee  topic.corn  topic.crude  topic.dlr  topic.earn  \\\n",
       "0          0             0           0            0          0           0   \n",
       "\n",
       "   topic.gnp  topic.grain  topic.interest  topic.money.fx  topic.money.supply  \\\n",
       "0          0            0               0               0                   0   \n",
       "\n",
       "   topic.oilseed  topic.ship  topic.sugar  topic.trade  topic.wheat  \n",
       "0              0           0            0            0            0  "
      ]
     },
     "execution_count": 15,
     "metadata": {},
     "output_type": "execute_result"
    }
   ],
   "source": [
    "df_train.iloc[0:1,:]"
   ]
  },
  {
   "cell_type": "code",
   "execution_count": 16,
   "metadata": {},
   "outputs": [
    {
     "data": {
      "text/html": [
       "<div>\n",
       "<style scoped>\n",
       "    .dataframe tbody tr th:only-of-type {\n",
       "        vertical-align: middle;\n",
       "    }\n",
       "\n",
       "    .dataframe tbody tr th {\n",
       "        vertical-align: top;\n",
       "    }\n",
       "\n",
       "    .dataframe thead th {\n",
       "        text-align: right;\n",
       "    }\n",
       "</style>\n",
       "<table border=\"1\" class=\"dataframe\">\n",
       "  <thead>\n",
       "    <tr style=\"text-align: right;\">\n",
       "      <th></th>\n",
       "      <th>pid</th>\n",
       "      <th>doc.title</th>\n",
       "      <th>doc.text</th>\n",
       "      <th>topic.acq</th>\n",
       "      <th>topic.coffee</th>\n",
       "      <th>topic.corn</th>\n",
       "      <th>topic.crude</th>\n",
       "      <th>topic.dlr</th>\n",
       "      <th>topic.earn</th>\n",
       "      <th>topic.gnp</th>\n",
       "      <th>topic.grain</th>\n",
       "      <th>topic.interest</th>\n",
       "      <th>topic.money.fx</th>\n",
       "      <th>topic.money.supply</th>\n",
       "      <th>topic.oilseed</th>\n",
       "      <th>topic.ship</th>\n",
       "      <th>topic.sugar</th>\n",
       "      <th>topic.trade</th>\n",
       "      <th>topic.wheat</th>\n",
       "    </tr>\n",
       "  </thead>\n",
       "  <tbody>\n",
       "    <tr>\n",
       "      <th>46</th>\n",
       "      <td>47</td>\n",
       "      <td>BRAZIL ANTI-INFLATION PLAN LIMPS TO ANNIVERSARY</td>\n",
       "      <td>inflation plan, initially hailed at home and a...</td>\n",
       "      <td>0</td>\n",
       "      <td>0</td>\n",
       "      <td>0</td>\n",
       "      <td>0</td>\n",
       "      <td>0</td>\n",
       "      <td>0</td>\n",
       "      <td>0</td>\n",
       "      <td>0</td>\n",
       "      <td>0</td>\n",
       "      <td>0</td>\n",
       "      <td>0</td>\n",
       "      <td>0</td>\n",
       "      <td>0</td>\n",
       "      <td>0</td>\n",
       "      <td>1</td>\n",
       "      <td>0</td>\n",
       "    </tr>\n",
       "  </tbody>\n",
       "</table>\n",
       "</div>"
      ],
      "text/plain": [
       "    pid                                        doc.title  \\\n",
       "46   47  BRAZIL ANTI-INFLATION PLAN LIMPS TO ANNIVERSARY   \n",
       "\n",
       "                                             doc.text  topic.acq  \\\n",
       "46  inflation plan, initially hailed at home and a...          0   \n",
       "\n",
       "    topic.coffee  topic.corn  topic.crude  topic.dlr  topic.earn  topic.gnp  \\\n",
       "46             0           0            0          0           0          0   \n",
       "\n",
       "    topic.grain  topic.interest  topic.money.fx  topic.money.supply  \\\n",
       "46            0               0               0                   0   \n",
       "\n",
       "    topic.oilseed  topic.ship  topic.sugar  topic.trade  topic.wheat  \n",
       "46              0           0            0            1            0  "
      ]
     },
     "execution_count": 16,
     "metadata": {},
     "output_type": "execute_result"
    }
   ],
   "source": [
    "df_train.iloc[46:47,:]"
   ]
  },
  {
   "cell_type": "markdown",
   "metadata": {},
   "source": [
    "### remove rows that contain none of these topics"
   ]
  },
  {
   "cell_type": "code",
   "execution_count": 17,
   "metadata": {},
   "outputs": [
    {
     "name": "stdout",
     "output_type": "stream",
     "text": [
      "train shape:  (14668, 19) ; test shape:  (6188, 19)\n"
     ]
    },
    {
     "data": {
      "text/html": [
       "<div>\n",
       "<style scoped>\n",
       "    .dataframe tbody tr th:only-of-type {\n",
       "        vertical-align: middle;\n",
       "    }\n",
       "\n",
       "    .dataframe tbody tr th {\n",
       "        vertical-align: top;\n",
       "    }\n",
       "\n",
       "    .dataframe thead th {\n",
       "        text-align: right;\n",
       "    }\n",
       "</style>\n",
       "<table border=\"1\" class=\"dataframe\">\n",
       "  <thead>\n",
       "    <tr style=\"text-align: right;\">\n",
       "      <th></th>\n",
       "      <th>pid</th>\n",
       "      <th>doc.title</th>\n",
       "      <th>doc.text</th>\n",
       "      <th>topic.acq</th>\n",
       "      <th>topic.coffee</th>\n",
       "      <th>topic.corn</th>\n",
       "      <th>topic.crude</th>\n",
       "      <th>topic.dlr</th>\n",
       "      <th>topic.earn</th>\n",
       "      <th>topic.gnp</th>\n",
       "      <th>topic.grain</th>\n",
       "      <th>topic.interest</th>\n",
       "      <th>topic.money.fx</th>\n",
       "      <th>topic.money.supply</th>\n",
       "      <th>topic.oilseed</th>\n",
       "      <th>topic.ship</th>\n",
       "      <th>topic.sugar</th>\n",
       "      <th>topic.trade</th>\n",
       "      <th>topic.wheat</th>\n",
       "    </tr>\n",
       "  </thead>\n",
       "  <tbody>\n",
       "    <tr>\n",
       "      <th>0</th>\n",
       "      <td>1</td>\n",
       "      <td>BAHIA COCOA REVIEW</td>\n",
       "      <td>Showers continued throughout the week in the B...</td>\n",
       "      <td>0</td>\n",
       "      <td>0</td>\n",
       "      <td>0</td>\n",
       "      <td>0</td>\n",
       "      <td>0</td>\n",
       "      <td>0</td>\n",
       "      <td>0</td>\n",
       "      <td>0</td>\n",
       "      <td>0</td>\n",
       "      <td>0</td>\n",
       "      <td>0</td>\n",
       "      <td>0</td>\n",
       "      <td>0</td>\n",
       "      <td>0</td>\n",
       "      <td>0</td>\n",
       "      <td>0</td>\n",
       "    </tr>\n",
       "    <tr>\n",
       "      <th>1</th>\n",
       "      <td>2</td>\n",
       "      <td>STANDARD OIL &amp;lt;SRD&gt; TO FORM FINANCIAL UNIT</td>\n",
       "      <td>Standard Oil Co and BP North America Inc said ...</td>\n",
       "      <td>0</td>\n",
       "      <td>0</td>\n",
       "      <td>0</td>\n",
       "      <td>0</td>\n",
       "      <td>0</td>\n",
       "      <td>0</td>\n",
       "      <td>0</td>\n",
       "      <td>0</td>\n",
       "      <td>0</td>\n",
       "      <td>0</td>\n",
       "      <td>0</td>\n",
       "      <td>0</td>\n",
       "      <td>0</td>\n",
       "      <td>0</td>\n",
       "      <td>0</td>\n",
       "      <td>0</td>\n",
       "    </tr>\n",
       "    <tr>\n",
       "      <th>2</th>\n",
       "      <td>3</td>\n",
       "      <td>TEXAS COMMERCE BANCSHARES &amp;lt;TCB&gt; FILES PLAN</td>\n",
       "      <td>Texas Commerce Bancshares Inc's Texas Commerce...</td>\n",
       "      <td>0</td>\n",
       "      <td>0</td>\n",
       "      <td>0</td>\n",
       "      <td>0</td>\n",
       "      <td>0</td>\n",
       "      <td>0</td>\n",
       "      <td>0</td>\n",
       "      <td>0</td>\n",
       "      <td>0</td>\n",
       "      <td>0</td>\n",
       "      <td>0</td>\n",
       "      <td>0</td>\n",
       "      <td>0</td>\n",
       "      <td>0</td>\n",
       "      <td>0</td>\n",
       "      <td>0</td>\n",
       "    </tr>\n",
       "    <tr>\n",
       "      <th>3</th>\n",
       "      <td>4</td>\n",
       "      <td>TALKING POINT/BANKAMERICA &amp;lt;BAC&gt; EQUITY OFFER</td>\n",
       "      <td>BankAmerica Corp is not under pressure to act ...</td>\n",
       "      <td>0</td>\n",
       "      <td>0</td>\n",
       "      <td>0</td>\n",
       "      <td>0</td>\n",
       "      <td>0</td>\n",
       "      <td>0</td>\n",
       "      <td>0</td>\n",
       "      <td>0</td>\n",
       "      <td>0</td>\n",
       "      <td>0</td>\n",
       "      <td>0</td>\n",
       "      <td>0</td>\n",
       "      <td>0</td>\n",
       "      <td>0</td>\n",
       "      <td>0</td>\n",
       "      <td>0</td>\n",
       "    </tr>\n",
       "    <tr>\n",
       "      <th>4</th>\n",
       "      <td>5</td>\n",
       "      <td>NATIONAL AVERAGE PRICES FOR FARMER-OWNED RESERVE</td>\n",
       "      <td>The U.S. Agriculture Department reported the f...</td>\n",
       "      <td>0</td>\n",
       "      <td>0</td>\n",
       "      <td>1</td>\n",
       "      <td>0</td>\n",
       "      <td>0</td>\n",
       "      <td>0</td>\n",
       "      <td>0</td>\n",
       "      <td>1</td>\n",
       "      <td>0</td>\n",
       "      <td>0</td>\n",
       "      <td>0</td>\n",
       "      <td>0</td>\n",
       "      <td>0</td>\n",
       "      <td>0</td>\n",
       "      <td>0</td>\n",
       "      <td>1</td>\n",
       "    </tr>\n",
       "  </tbody>\n",
       "</table>\n",
       "</div>"
      ],
      "text/plain": [
       "   pid                                         doc.title  \\\n",
       "0    1                                BAHIA COCOA REVIEW   \n",
       "1    2      STANDARD OIL &lt;SRD> TO FORM FINANCIAL UNIT   \n",
       "2    3     TEXAS COMMERCE BANCSHARES &lt;TCB> FILES PLAN   \n",
       "3    4   TALKING POINT/BANKAMERICA &lt;BAC> EQUITY OFFER   \n",
       "4    5  NATIONAL AVERAGE PRICES FOR FARMER-OWNED RESERVE   \n",
       "\n",
       "                                            doc.text  topic.acq  topic.coffee  \\\n",
       "0  Showers continued throughout the week in the B...          0             0   \n",
       "1  Standard Oil Co and BP North America Inc said ...          0             0   \n",
       "2  Texas Commerce Bancshares Inc's Texas Commerce...          0             0   \n",
       "3  BankAmerica Corp is not under pressure to act ...          0             0   \n",
       "4  The U.S. Agriculture Department reported the f...          0             0   \n",
       "\n",
       "   topic.corn  topic.crude  topic.dlr  topic.earn  topic.gnp  topic.grain  \\\n",
       "0           0            0          0           0          0            0   \n",
       "1           0            0          0           0          0            0   \n",
       "2           0            0          0           0          0            0   \n",
       "3           0            0          0           0          0            0   \n",
       "4           1            0          0           0          0            1   \n",
       "\n",
       "   topic.interest  topic.money.fx  topic.money.supply  topic.oilseed  \\\n",
       "0               0               0                   0              0   \n",
       "1               0               0                   0              0   \n",
       "2               0               0                   0              0   \n",
       "3               0               0                   0              0   \n",
       "4               0               0                   0              0   \n",
       "\n",
       "   topic.ship  topic.sugar  topic.trade  topic.wheat  \n",
       "0           0            0            0            0  \n",
       "1           0            0            0            0  \n",
       "2           0            0            0            0  \n",
       "3           0            0            0            0  \n",
       "4           0            0            0            1  "
      ]
     },
     "execution_count": 17,
     "metadata": {},
     "output_type": "execute_result"
    }
   ],
   "source": [
    "print('train shape: ', df_train.shape, '; test shape: ', df_test.shape)\n",
    "df_train.head()"
   ]
  },
  {
   "cell_type": "code",
   "execution_count": 18,
   "metadata": {},
   "outputs": [],
   "source": [
    "df_train = df_train[df_train.iloc[:,3:].any(axis=1)]\n",
    "df_test = df_test[df_test.iloc[:,3:].any(axis=1)]"
   ]
  },
  {
   "cell_type": "code",
   "execution_count": 19,
   "metadata": {},
   "outputs": [
    {
     "name": "stdout",
     "output_type": "stream",
     "text": [
      "train shape:  (6957, 19) ; test shape:  (2679, 19)\n"
     ]
    },
    {
     "data": {
      "text/html": [
       "<div>\n",
       "<style scoped>\n",
       "    .dataframe tbody tr th:only-of-type {\n",
       "        vertical-align: middle;\n",
       "    }\n",
       "\n",
       "    .dataframe tbody tr th {\n",
       "        vertical-align: top;\n",
       "    }\n",
       "\n",
       "    .dataframe thead th {\n",
       "        text-align: right;\n",
       "    }\n",
       "</style>\n",
       "<table border=\"1\" class=\"dataframe\">\n",
       "  <thead>\n",
       "    <tr style=\"text-align: right;\">\n",
       "      <th></th>\n",
       "      <th>pid</th>\n",
       "      <th>doc.title</th>\n",
       "      <th>doc.text</th>\n",
       "      <th>topic.acq</th>\n",
       "      <th>topic.coffee</th>\n",
       "      <th>topic.corn</th>\n",
       "      <th>topic.crude</th>\n",
       "      <th>topic.dlr</th>\n",
       "      <th>topic.earn</th>\n",
       "      <th>topic.gnp</th>\n",
       "      <th>topic.grain</th>\n",
       "      <th>topic.interest</th>\n",
       "      <th>topic.money.fx</th>\n",
       "      <th>topic.money.supply</th>\n",
       "      <th>topic.oilseed</th>\n",
       "      <th>topic.ship</th>\n",
       "      <th>topic.sugar</th>\n",
       "      <th>topic.trade</th>\n",
       "      <th>topic.wheat</th>\n",
       "    </tr>\n",
       "  </thead>\n",
       "  <tbody>\n",
       "    <tr>\n",
       "      <th>4</th>\n",
       "      <td>5</td>\n",
       "      <td>NATIONAL AVERAGE PRICES FOR FARMER-OWNED RESERVE</td>\n",
       "      <td>The U.S. Agriculture Department reported the f...</td>\n",
       "      <td>0</td>\n",
       "      <td>0</td>\n",
       "      <td>1</td>\n",
       "      <td>0</td>\n",
       "      <td>0</td>\n",
       "      <td>0</td>\n",
       "      <td>0</td>\n",
       "      <td>1</td>\n",
       "      <td>0</td>\n",
       "      <td>0</td>\n",
       "      <td>0</td>\n",
       "      <td>0</td>\n",
       "      <td>0</td>\n",
       "      <td>0</td>\n",
       "      <td>0</td>\n",
       "      <td>1</td>\n",
       "    </tr>\n",
       "    <tr>\n",
       "      <th>5</th>\n",
       "      <td>6</td>\n",
       "      <td>ARGENTINE 1986/87 GRAIN/OILSEED REGISTRATIONS</td>\n",
       "      <td>Argentine grain board figures show crop regist...</td>\n",
       "      <td>0</td>\n",
       "      <td>0</td>\n",
       "      <td>1</td>\n",
       "      <td>0</td>\n",
       "      <td>0</td>\n",
       "      <td>0</td>\n",
       "      <td>0</td>\n",
       "      <td>1</td>\n",
       "      <td>0</td>\n",
       "      <td>0</td>\n",
       "      <td>0</td>\n",
       "      <td>1</td>\n",
       "      <td>0</td>\n",
       "      <td>0</td>\n",
       "      <td>0</td>\n",
       "      <td>1</td>\n",
       "    </tr>\n",
       "    <tr>\n",
       "      <th>8</th>\n",
       "      <td>9</td>\n",
       "      <td>CHAMPION PRODUCTS &amp;lt;CH&gt; APPROVES STOCK SPLIT</td>\n",
       "      <td>Champion Products Inc said its board of direct...</td>\n",
       "      <td>0</td>\n",
       "      <td>0</td>\n",
       "      <td>0</td>\n",
       "      <td>0</td>\n",
       "      <td>0</td>\n",
       "      <td>1</td>\n",
       "      <td>0</td>\n",
       "      <td>0</td>\n",
       "      <td>0</td>\n",
       "      <td>0</td>\n",
       "      <td>0</td>\n",
       "      <td>0</td>\n",
       "      <td>0</td>\n",
       "      <td>0</td>\n",
       "      <td>0</td>\n",
       "      <td>0</td>\n",
       "    </tr>\n",
       "    <tr>\n",
       "      <th>9</th>\n",
       "      <td>10</td>\n",
       "      <td>COMPUTER TERMINAL SYSTEMS &amp;lt;CPML&gt; COMPLETES ...</td>\n",
       "      <td>Computer Terminal Systems Inc said it has comp...</td>\n",
       "      <td>1</td>\n",
       "      <td>0</td>\n",
       "      <td>0</td>\n",
       "      <td>0</td>\n",
       "      <td>0</td>\n",
       "      <td>0</td>\n",
       "      <td>0</td>\n",
       "      <td>0</td>\n",
       "      <td>0</td>\n",
       "      <td>0</td>\n",
       "      <td>0</td>\n",
       "      <td>0</td>\n",
       "      <td>0</td>\n",
       "      <td>0</td>\n",
       "      <td>0</td>\n",
       "      <td>0</td>\n",
       "    </tr>\n",
       "    <tr>\n",
       "      <th>10</th>\n",
       "      <td>11</td>\n",
       "      <td>COBANCO INC &amp;lt;CBCO&gt; YEAR NET</td>\n",
       "      <td>Shr 34 cts vs 1.19 dlrs     Net 807,000 vs 2,8...</td>\n",
       "      <td>0</td>\n",
       "      <td>0</td>\n",
       "      <td>0</td>\n",
       "      <td>0</td>\n",
       "      <td>0</td>\n",
       "      <td>1</td>\n",
       "      <td>0</td>\n",
       "      <td>0</td>\n",
       "      <td>0</td>\n",
       "      <td>0</td>\n",
       "      <td>0</td>\n",
       "      <td>0</td>\n",
       "      <td>0</td>\n",
       "      <td>0</td>\n",
       "      <td>0</td>\n",
       "      <td>0</td>\n",
       "    </tr>\n",
       "  </tbody>\n",
       "</table>\n",
       "</div>"
      ],
      "text/plain": [
       "    pid                                          doc.title  \\\n",
       "4     5   NATIONAL AVERAGE PRICES FOR FARMER-OWNED RESERVE   \n",
       "5     6      ARGENTINE 1986/87 GRAIN/OILSEED REGISTRATIONS   \n",
       "8     9     CHAMPION PRODUCTS &lt;CH> APPROVES STOCK SPLIT   \n",
       "9    10  COMPUTER TERMINAL SYSTEMS &lt;CPML> COMPLETES ...   \n",
       "10   11                     COBANCO INC &lt;CBCO> YEAR NET   \n",
       "\n",
       "                                             doc.text  topic.acq  \\\n",
       "4   The U.S. Agriculture Department reported the f...          0   \n",
       "5   Argentine grain board figures show crop regist...          0   \n",
       "8   Champion Products Inc said its board of direct...          0   \n",
       "9   Computer Terminal Systems Inc said it has comp...          1   \n",
       "10  Shr 34 cts vs 1.19 dlrs     Net 807,000 vs 2,8...          0   \n",
       "\n",
       "    topic.coffee  topic.corn  topic.crude  topic.dlr  topic.earn  topic.gnp  \\\n",
       "4              0           1            0          0           0          0   \n",
       "5              0           1            0          0           0          0   \n",
       "8              0           0            0          0           1          0   \n",
       "9              0           0            0          0           0          0   \n",
       "10             0           0            0          0           1          0   \n",
       "\n",
       "    topic.grain  topic.interest  topic.money.fx  topic.money.supply  \\\n",
       "4             1               0               0                   0   \n",
       "5             1               0               0                   0   \n",
       "8             0               0               0                   0   \n",
       "9             0               0               0                   0   \n",
       "10            0               0               0                   0   \n",
       "\n",
       "    topic.oilseed  topic.ship  topic.sugar  topic.trade  topic.wheat  \n",
       "4               0           0            0            0            1  \n",
       "5               1           0            0            0            1  \n",
       "8               0           0            0            0            0  \n",
       "9               0           0            0            0            0  \n",
       "10              0           0            0            0            0  "
      ]
     },
     "execution_count": 19,
     "metadata": {},
     "output_type": "execute_result"
    }
   ],
   "source": [
    "print('train shape: ', df_train.shape, '; test shape: ', df_test.shape)\n",
    "df_train.head()"
   ]
  },
  {
   "cell_type": "markdown",
   "metadata": {},
   "source": [
    "# 4. Preprocess text"
   ]
  },
  {
   "cell_type": "code",
   "execution_count": 20,
   "metadata": {},
   "outputs": [],
   "source": [
    "def lower_case(string):\n",
    "    return string.lower()\n",
    "\n",
    "def fix_lt(string):\n",
    "    # fix the HTML-escaped less-than sign\n",
    "    return re.sub(r'&lt;', '<', string)\n",
    "\n",
    "def remove_reuter(string):\n",
    "    # fix the HTML-escaped less-than sign\n",
    "    return re.sub(r'reuter$', '', string)\n",
    "\n",
    "def replace_non_alphanumeric_with_space(string):\n",
    "    # replace punctuation and different whitespace with space character\n",
    "    return re.sub(r'[^a-z0-9 ]', ' ', string)\n",
    "\n",
    "def strip_punctuation(string):\n",
    "    # remove punctuation\n",
    "    return re.sub(r'[^a-z0-9\\s]', ' ', string)\n",
    "\n",
    "def remove_stop_words(string, stop_words):\n",
    "    return ' '.join([ word for word in re.split(' ', string) if not word in stop_words ])\n",
    "\n",
    "def replace_numeric_with_literal(string):\n",
    "    return re.sub(r'([0-9]+ ?)+', '<num> ', string)\n",
    "\n",
    "def compact_whitespace(string):\n",
    "    return re.sub(r'\\s+', ' ', string)\n",
    "\n",
    "def stem(string, stemmer):\n",
    "    return ' '.join([ \n",
    "        stemmer.stem(word) if hasattr(stemmer, 'stem') else stemmer.lemmatize(word)\n",
    "        for word in re.split(' ', string) if not word in stop_words \n",
    "    ])"
   ]
  },
  {
   "cell_type": "code",
   "execution_count": 21,
   "metadata": {},
   "outputs": [],
   "source": [
    "stop_words = nltk.corpus.stopwords.words('english')\n",
    "\n",
    "stemmer = nltk.stem.lancaster.LancasterStemmer()\n",
    "# stemmer = PorterStemmer()"
   ]
  },
  {
   "cell_type": "code",
   "execution_count": 22,
   "metadata": {},
   "outputs": [],
   "source": [
    "def pre_process(string):\n",
    "    s = lower_case(string)\n",
    "    s = fix_lt(s)\n",
    "    s = remove_reuter(s)\n",
    "    s = strip_punctuation(s)\n",
    "    s = remove_stop_words(s, stop_words)\n",
    "    s = compact_whitespace(s)\n",
    "    s = replace_numeric_with_literal(s)\n",
    "    #s = stem(s, stemmer)\n",
    "    return s.strip()"
   ]
  },
  {
   "cell_type": "code",
   "execution_count": 23,
   "metadata": {},
   "outputs": [
    {
     "data": {
      "text/plain": [
       "'autobahn fx <num> rms actively developed gds decom finished <num>'"
      ]
     },
     "execution_count": 23,
     "metadata": {},
     "output_type": "execute_result"
    }
   ],
   "source": [
    "example = 'Autobahn-FX 2, &lt;RMS> are now being actively developed; GDS decom will be finished by 2055 or 2056'\n",
    "pre_process(example)"
   ]
  },
  {
   "cell_type": "code",
   "execution_count": 24,
   "metadata": {},
   "outputs": [],
   "source": [
    "def pre_process_text_fields(df):\n",
    "    df['text'] = df['doc.title'].map(lambda x: pre_process(x)) + ' ' + df['doc.text'].map(lambda x: pre_process(x))\n",
    "    return df.drop(labels=['doc.title','doc.text'], axis=1)"
   ]
  },
  {
   "cell_type": "code",
   "execution_count": 25,
   "metadata": {},
   "outputs": [],
   "source": [
    "df_train = pre_process_text_fields(df_train)\n",
    "df_test = pre_process_text_fields(df_test)"
   ]
  },
  {
   "cell_type": "code",
   "execution_count": 26,
   "metadata": {},
   "outputs": [
    {
     "data": {
      "text/html": [
       "<div>\n",
       "<style scoped>\n",
       "    .dataframe tbody tr th:only-of-type {\n",
       "        vertical-align: middle;\n",
       "    }\n",
       "\n",
       "    .dataframe tbody tr th {\n",
       "        vertical-align: top;\n",
       "    }\n",
       "\n",
       "    .dataframe thead th {\n",
       "        text-align: right;\n",
       "    }\n",
       "</style>\n",
       "<table border=\"1\" class=\"dataframe\">\n",
       "  <thead>\n",
       "    <tr style=\"text-align: right;\">\n",
       "      <th></th>\n",
       "      <th>pid</th>\n",
       "      <th>topic.acq</th>\n",
       "      <th>topic.coffee</th>\n",
       "      <th>topic.corn</th>\n",
       "      <th>topic.crude</th>\n",
       "      <th>topic.dlr</th>\n",
       "      <th>topic.earn</th>\n",
       "      <th>topic.gnp</th>\n",
       "      <th>topic.grain</th>\n",
       "      <th>topic.interest</th>\n",
       "      <th>topic.money.fx</th>\n",
       "      <th>topic.money.supply</th>\n",
       "      <th>topic.oilseed</th>\n",
       "      <th>topic.ship</th>\n",
       "      <th>topic.sugar</th>\n",
       "      <th>topic.trade</th>\n",
       "      <th>topic.wheat</th>\n",
       "      <th>text</th>\n",
       "    </tr>\n",
       "  </thead>\n",
       "  <tbody>\n",
       "    <tr>\n",
       "      <th>4</th>\n",
       "      <td>5</td>\n",
       "      <td>0</td>\n",
       "      <td>0</td>\n",
       "      <td>1</td>\n",
       "      <td>0</td>\n",
       "      <td>0</td>\n",
       "      <td>0</td>\n",
       "      <td>0</td>\n",
       "      <td>1</td>\n",
       "      <td>0</td>\n",
       "      <td>0</td>\n",
       "      <td>0</td>\n",
       "      <td>0</td>\n",
       "      <td>0</td>\n",
       "      <td>0</td>\n",
       "      <td>0</td>\n",
       "      <td>1</td>\n",
       "      <td>national average prices farmer owned reserve u...</td>\n",
       "    </tr>\n",
       "  </tbody>\n",
       "</table>\n",
       "</div>"
      ],
      "text/plain": [
       "   pid  topic.acq  topic.coffee  topic.corn  topic.crude  topic.dlr  \\\n",
       "4    5          0             0           1            0          0   \n",
       "\n",
       "   topic.earn  topic.gnp  topic.grain  topic.interest  topic.money.fx  \\\n",
       "4           0          0            1               0               0   \n",
       "\n",
       "   topic.money.supply  topic.oilseed  topic.ship  topic.sugar  topic.trade  \\\n",
       "4                   0              0           0            0            0   \n",
       "\n",
       "   topic.wheat                                               text  \n",
       "4            1  national average prices farmer owned reserve u...  "
      ]
     },
     "execution_count": 26,
     "metadata": {},
     "output_type": "execute_result"
    }
   ],
   "source": [
    "df_train.iloc[0:1,:]"
   ]
  },
  {
   "cell_type": "code",
   "execution_count": 27,
   "metadata": {},
   "outputs": [
    {
     "data": {
      "text/plain": [
       "((6957, 18), (2679, 18))"
      ]
     },
     "execution_count": 27,
     "metadata": {},
     "output_type": "execute_result"
    }
   ],
   "source": [
    "df_train.shape, df_test.shape"
   ]
  },
  {
   "cell_type": "markdown",
   "metadata": {},
   "source": [
    "# 6. Vectorize labels"
   ]
  },
  {
   "cell_type": "code",
   "execution_count": 28,
   "metadata": {},
   "outputs": [],
   "source": [
    "y_train = df_train.iloc[:,1:-1].values\n",
    "y_test = df_test.iloc[:,1:-1].values"
   ]
  },
  {
   "cell_type": "code",
   "execution_count": 29,
   "metadata": {},
   "outputs": [
    {
     "data": {
      "text/plain": [
       "((6957, 16), (2679, 16))"
      ]
     },
     "execution_count": 29,
     "metadata": {},
     "output_type": "execute_result"
    }
   ],
   "source": [
    "y_train.shape, y_test.shape"
   ]
  },
  {
   "cell_type": "markdown",
   "metadata": {},
   "source": [
    "# 5. Prepare embeddings"
   ]
  },
  {
   "cell_type": "markdown",
   "metadata": {},
   "source": [
    "### read glove embeddings"
   ]
  },
  {
   "cell_type": "markdown",
   "metadata": {},
   "source": [
    "Download from https://nlp.stanford.edu/projects/glove/ archive glove.6B.zip"
   ]
  },
  {
   "cell_type": "code",
   "execution_count": 30,
   "metadata": {},
   "outputs": [],
   "source": [
    "with open('glove.6B.50d.txt', 'r') as f: glove_text = f.read()"
   ]
  },
  {
   "cell_type": "code",
   "execution_count": 31,
   "metadata": {},
   "outputs": [],
   "source": [
    "glove_lines = glove_text.split('\\n')"
   ]
  },
  {
   "cell_type": "code",
   "execution_count": 32,
   "metadata": {},
   "outputs": [
    {
     "name": "stdout",
     "output_type": "stream",
     "text": [
      "the 0.418 0.24968 -0.41242 0.1217 0.34527 -0.044457 -0.49688 -0.17862 -0.00066023 -0.6566 0.27843 -0.14767 -0.55677 0.14658 -0.0095095 0.011658 0.10204 -0.12792 -0.8443 -0.12181 -0.016801 -0.33279 -0.1552 -0.23131 -0.19181 -1.8823 -0.76746 0.099051 -0.42125 -0.19526 4.0071 -0.18594 -0.52287 -0.31681 0.00059213 0.0074449 0.17778 -0.15897 0.012041 -0.054223 -0.29871 -0.15749 -0.34758 -0.045637 -0.44251 0.18785 0.0027849 -0.18411 -0.11514 -0.78581\n",
      ", 0.013441 0.23682 -0.16899 0.40951 0.63812 0.47709 -0.42852 -0.55641 -0.364 -0.23938 0.13001 -0.063734 -0.39575 -0.48162 0.23291 0.090201 -0.13324 0.078639 -0.41634 -0.15428 0.10068 0.48891 0.31226 -0.1252 -0.037512 -1.5179 0.12612 -0.02442 -0.042961 -0.28351 3.5416 -0.11956 -0.014533 -0.1499 0.21864 -0.33412 -0.13872 0.31806 0.70358 0.44858 -0.080262 0.63003 0.32111 -0.46765 0.22786 0.36034 -0.37818 -0.56657 0.044691 0.30392\n",
      ". 0.15164 0.30177 -0.16763 0.17684 0.31719 0.33973 -0.43478 -0.31086 -0.44999 -0.29486 0.16608 0.11963 -0.41328 -0.42353 0.59868 0.28825 -0.11547 -0.041848 -0.67989 -0.25063 0.18472 0.086876 0.46582 0.015035 0.043474 -1.4671 -0.30384 -0.023441 0.30589 -0.21785 3.746 0.0042284 -0.18436 -0.46209 0.098329 -0.11907 0.23919 0.1161 0.41705 0.056763 -6.3681e-05 0.068987 0.087939 -0.10285 -0.13931 0.22314 -0.080803 -0.35652 0.016413 0.10216\n",
      "of 0.70853 0.57088 -0.4716 0.18048 0.54449 0.72603 0.18157 -0.52393 0.10381 -0.17566 0.078852 -0.36216 -0.11829 -0.83336 0.11917 -0.16605 0.061555 -0.012719 -0.56623 0.013616 0.22851 -0.14396 -0.067549 -0.38157 -0.23698 -1.7037 -0.86692 -0.26704 -0.2589 0.1767 3.8676 -0.1613 -0.13273 -0.68881 0.18444 0.0052464 -0.33874 -0.078956 0.24185 0.36576 -0.34727 0.28483 0.075693 -0.062178 -0.38988 0.22902 -0.21617 -0.22562 -0.093918 -0.80375\n",
      "to 0.68047 -0.039263 0.30186 -0.17792 0.42962 0.032246 -0.41376 0.13228 -0.29847 -0.085253 0.17118 0.22419 -0.10046 -0.43653 0.33418 0.67846 0.057204 -0.34448 -0.42785 -0.43275 0.55963 0.10032 0.18677 -0.26854 0.037334 -2.0932 0.22171 -0.39868 0.20912 -0.55725 3.8826 0.47466 -0.95658 -0.37788 0.20869 -0.32752 0.12751 0.088359 0.16351 -0.21634 -0.094375 0.018324 0.21048 -0.03088 -0.19722 0.082279 -0.09434 -0.073297 -0.064699 -0.26044\n"
     ]
    }
   ],
   "source": [
    "print('\\n'.join(glove_lines[:5]))"
   ]
  },
  {
   "cell_type": "code",
   "execution_count": 33,
   "metadata": {},
   "outputs": [
    {
     "data": {
      "text/plain": [
       "''"
      ]
     },
     "execution_count": 33,
     "metadata": {},
     "output_type": "execute_result"
    }
   ],
   "source": [
    "glove_lines.pop()"
   ]
  },
  {
   "cell_type": "code",
   "execution_count": 34,
   "metadata": {},
   "outputs": [],
   "source": [
    "def _get_word(line): return line.split()[0]\n",
    "def _get_emb(line): return np.array(list(map(float, line.split()[1:])), dtype=np.float)\n",
    "glove_word2emb = {_get_word(line): _get_emb(line) for line in glove_lines}"
   ]
  },
  {
   "cell_type": "code",
   "execution_count": 35,
   "metadata": {},
   "outputs": [],
   "source": [
    "def word_to_embedding(word):\n",
    "    if '<num>' in word: return glove_word2emb['0']\n",
    "    if word in glove_word2emb: return glove_word2emb[word]\n",
    "    return np.ones(glove_word2emb['0'].shape) * -1"
   ]
  },
  {
   "cell_type": "markdown",
   "metadata": {},
   "source": [
    "### word to index"
   ]
  },
  {
   "cell_type": "code",
   "execution_count": 36,
   "metadata": {},
   "outputs": [],
   "source": [
    "train_words = list(map(lambda x: x.split(), df_train.text.tolist()))\n",
    "flatten = lambda l: [item for sublist in l for item in sublist]\n",
    "train_words = list(set(flatten(train_words)))"
   ]
  },
  {
   "cell_type": "code",
   "execution_count": 37,
   "metadata": {},
   "outputs": [],
   "source": [
    "glove_words = list(glove_word2emb.keys())"
   ]
  },
  {
   "cell_type": "code",
   "execution_count": 38,
   "metadata": {},
   "outputs": [],
   "source": [
    "train_words_not_in_glove = sorted(list(set(train_words).difference(set(glove_words))))\n",
    "train_words_in_glove = sorted(list(set(train_words).difference(set(train_words_not_in_glove))))\n",
    "train_words_indices = {word: i+1 for (i,word) in enumerate(train_words_in_glove)}\n",
    "for word in train_words_not_in_glove:\n",
    "    if '<num>' in word: train_words_indices[word] = len(train_words_in_glove) + 1\n",
    "    else: train_words_indices[word] = len(train_words_in_glove) + 2"
   ]
  },
  {
   "cell_type": "code",
   "execution_count": 39,
   "metadata": {},
   "outputs": [],
   "source": [
    "def word_to_index(word):\n",
    "    if word in train_words_indices: return train_words_indices[word]\n",
    "    else: return max(train_words_indices.values())"
   ]
  },
  {
   "cell_type": "markdown",
   "metadata": {},
   "source": [
    "### text to sentences"
   ]
  },
  {
   "cell_type": "code",
   "execution_count": 40,
   "metadata": {},
   "outputs": [],
   "source": [
    "sentences = df_train.text.tolist()"
   ]
  },
  {
   "cell_type": "markdown",
   "metadata": {},
   "source": [
    "### sentences as indices"
   ]
  },
  {
   "cell_type": "code",
   "execution_count": 41,
   "metadata": {},
   "outputs": [],
   "source": [
    "sentence_max_len = max(map(len, sentences))\n",
    "sentences_as_indices = np.zeros((len(sentences), sentence_max_len))"
   ]
  },
  {
   "cell_type": "code",
   "execution_count": 42,
   "metadata": {},
   "outputs": [],
   "source": [
    "for i in range(len(sentences)):\n",
    "    for (j, word) in enumerate(sentences[i].split()):\n",
    "        sentences_as_indices[i, j] = word_to_index(word)"
   ]
  },
  {
   "cell_type": "markdown",
   "metadata": {},
   "source": [
    "### embedding matrix"
   ]
  },
  {
   "cell_type": "code",
   "execution_count": 43,
   "metadata": {},
   "outputs": [],
   "source": [
    "vocab_len = (len(train_words_in_glove) +2) + 1 # +1 required for keras embeddings\n",
    "emb_dim = glove_word2emb['0'].shape[0]\n",
    "embedding_matrix = np.zeros((vocab_len, emb_dim))\n",
    "\n",
    "for (word, index) in train_words_indices.items():\n",
    "    embedding_matrix[index, :] = word_to_embedding(word)"
   ]
  },
  {
   "cell_type": "markdown",
   "metadata": {},
   "source": [
    "# 7. Train a model"
   ]
  },
  {
   "cell_type": "markdown",
   "metadata": {},
   "source": [
    "### Try double LSTM with word2vec embeddings"
   ]
  },
  {
   "attachments": {
    "image.png": {
     "image/png": "[encoded data removed]"
    }
   },
   "cell_type": "markdown",
   "metadata": {},
   "source": [
    "Architecture\n",
    "![image.png](attachment:image.png)"
   ]
  },
  {
   "cell_type": "code",
   "execution_count": 44,
   "metadata": {},
   "outputs": [],
   "source": [
    "num_labels = y_train.shape[1]"
   ]
  },
  {
   "cell_type": "code",
   "execution_count": 45,
   "metadata": {},
   "outputs": [],
   "source": [
    "def prebuild_embedding_layer(embedding_matrix):\n",
    "    vocab_len, emb_dim = embedding_matrix.shape\n",
    "    embedding_layer = Embedding(input_dim=vocab_len, output_dim=emb_dim, trainable=False)\n",
    "    embedding_layer.build((None,)) # that's need to be done to be able to set weight\n",
    "    embedding_layer.set_weights([embedding_matrix])\n",
    "    return embedding_layer"
   ]
  },
  {
   "cell_type": "code",
   "execution_count": 46,
   "metadata": {},
   "outputs": [],
   "source": [
    "inputs = Input(shape=(sentence_max_len,))\n",
    "embeddings = prebuild_embedding_layer(embedding_matrix)(inputs)\n",
    "X = LSTM(128, return_sequences=True)(embeddings)\n",
    "X = Dropout(0.5)(X)\n",
    "X = LSTM(128, return_sequences=False)(X)\n",
    "X = Dropout(0.5)(X)\n",
    "X = Dense(units=num_labels)(X)\n",
    "X = Activation('sigmoid')(X)"
   ]
  },
  {
   "cell_type": "code",
   "execution_count": 47,
   "metadata": {},
   "outputs": [],
   "source": [
    "model = Model(inputs=inputs, outputs=X)"
   ]
  },
  {
   "cell_type": "code",
   "execution_count": 48,
   "metadata": {},
   "outputs": [
    {
     "name": "stdout",
     "output_type": "stream",
     "text": [
      "_________________________________________________________________\n",
      "Layer (type)                 Output Shape              Param #   \n",
      "=================================================================\n",
      "input_1 (InputLayer)         (None, 6439)              0         \n",
      "_________________________________________________________________\n",
      "embedding_1 (Embedding)      (None, 6439, 50)          980650    \n",
      "_________________________________________________________________\n",
      "lstm_1 (LSTM)                (None, 6439, 128)         91648     \n",
      "_________________________________________________________________\n",
      "dropout_1 (Dropout)          (None, 6439, 128)         0         \n",
      "_________________________________________________________________\n",
      "lstm_2 (LSTM)                (None, 128)               131584    \n",
      "_________________________________________________________________\n",
      "dropout_2 (Dropout)          (None, 128)               0         \n",
      "_________________________________________________________________\n",
      "dense_1 (Dense)              (None, 16)                2064      \n",
      "_________________________________________________________________\n",
      "activation_1 (Activation)    (None, 16)                0         \n",
      "=================================================================\n",
      "Total params: 1,205,946\n",
      "Trainable params: 225,296\n",
      "Non-trainable params: 980,650\n",
      "_________________________________________________________________\n"
     ]
    }
   ],
   "source": [
    "model.summary()"
   ]
  },
  {
   "cell_type": "code",
   "execution_count": 49,
   "metadata": {},
   "outputs": [],
   "source": [
    "model.compile(loss='binary_crossentropy', optimizer='adam', metrics=['accuracy'])"
   ]
  },
  {
   "cell_type": "code",
   "execution_count": 50,
   "metadata": {},
   "outputs": [
    {
     "name": "stdout",
     "output_type": "stream",
     "text": [
      "Train on 6261 samples, validate on 696 samples\n",
      "Epoch 1/30\n",
      "6261/6261 [==============================] - 4669s 746ms/step - loss: 0.2369 - acc: 0.9165 - val_loss: 0.2322 - val_acc: 0.9261\n",
      "Epoch 2/30\n",
      "6261/6261 [==============================] - 4699s 751ms/step - loss: 0.2086 - acc: 0.9269 - val_loss: 0.2365 - val_acc: 0.9261\n",
      "Epoch 3/30\n",
      "6261/6261 [==============================] - 4697s 750ms/step - loss: 0.2071 - acc: 0.9274 - val_loss: 0.2369 - val_acc: 0.9262\n",
      "Epoch 4/30\n",
      "6261/6261 [==============================] - 4691s 749ms/step - loss: 0.2061 - acc: 0.9285 - val_loss: 0.2375 - val_acc: 0.9262\n",
      "Epoch 5/30\n",
      "6261/6261 [==============================] - 4700s 751ms/step - loss: 0.2051 - acc: 0.9288 - val_loss: 0.2310 - val_acc: 0.9262\n",
      "Epoch 6/30\n",
      "6261/6261 [==============================] - 4691s 749ms/step - loss: 0.2048 - acc: 0.9288 - val_loss: 0.2329 - val_acc: 0.9262\n",
      "Epoch 7/30\n",
      "6261/6261 [==============================] - 4720s 754ms/step - loss: 0.2044 - acc: 0.9286 - val_loss: 0.2332 - val_acc: 0.9262\n",
      "Epoch 8/30\n",
      "6261/6261 [==============================] - 4675s 747ms/step - loss: 0.2044 - acc: 0.9289 - val_loss: 0.2342 - val_acc: 0.9262\n",
      "Epoch 9/30\n",
      "6261/6261 [==============================] - 4673s 746ms/step - loss: 0.2035 - acc: 0.9290 - val_loss: 0.2352 - val_acc: 0.9262\n",
      "Epoch 10/30\n",
      "6261/6261 [==============================] - 4691s 749ms/step - loss: 0.2042 - acc: 0.9290 - val_loss: 0.2336 - val_acc: 0.9262\n",
      "Epoch 11/30\n",
      "6261/6261 [==============================] - 4678s 747ms/step - loss: 0.2056 - acc: 0.9287 - val_loss: 0.2351 - val_acc: 0.9262\n",
      "Epoch 12/30\n",
      "6261/6261 [==============================] - 4682s 748ms/step - loss: 0.2041 - acc: 0.9290 - val_loss: 0.2330 - val_acc: 0.9262\n",
      "Epoch 13/30\n",
      "6261/6261 [==============================] - 4682s 748ms/step - loss: 0.2041 - acc: 0.9290 - val_loss: 0.2347 - val_acc: 0.9262\n",
      "Epoch 14/30\n",
      "5115/6261 [=======================>......] - ETA: 13:43 - loss: 0.2030 - acc: 0.9292"
     ]
    },
    {
     "ename": "KeyboardInterrupt",
     "evalue": "",
     "output_type": "error",
     "traceback": [
      "\u001b[0;31m----------------------------------------\u001b[0m",
      "\u001b[0;31mKeyboardInterrupt\u001b[0mTraceback (most recent call last)",
      "\u001b[0;32m<ipython-input-50-b5e184b47b7d>\u001b[0m in \u001b[0;36m<module>\u001b[0;34m()\u001b[0m\n\u001b[1;32m      3\u001b[0m                     \u001b[0mepochs\u001b[0m\u001b[0;34m=\u001b[0m\u001b[0;36m30\u001b[0m\u001b[0;34m,\u001b[0m\u001b[0;34m\u001b[0m\u001b[0m\n\u001b[1;32m      4\u001b[0m                     \u001b[0mverbose\u001b[0m\u001b[0;34m=\u001b[0m\u001b[0;36m1\u001b[0m\u001b[0;34m,\u001b[0m\u001b[0;34m\u001b[0m\u001b[0m\n\u001b[0;32m----> 5\u001b[0;31m                     validation_split=0.1)\n\u001b[0m",
      "\u001b[0;32m~/.local/lib/python3.5/site-packages/keras/engine/training.py\u001b[0m in \u001b[0;36mfit\u001b[0;34m(self, x, y, batch_size, epochs, verbose, callbacks, validation_split, validation_data, shuffle, class_weight, sample_weight, initial_epoch, steps_per_epoch, validation_steps, **kwargs)\u001b[0m\n\u001b[1;32m   1035\u001b[0m                                         \u001b[0minitial_epoch\u001b[0m\u001b[0;34m=\u001b[0m\u001b[0minitial_epoch\u001b[0m\u001b[0;34m,\u001b[0m\u001b[0;34m\u001b[0m\u001b[0m\n\u001b[1;32m   1036\u001b[0m                                         \u001b[0msteps_per_epoch\u001b[0m\u001b[0;34m=\u001b[0m\u001b[0msteps_per_epoch\u001b[0m\u001b[0;34m,\u001b[0m\u001b[0;34m\u001b[0m\u001b[0m\n\u001b[0;32m-> 1037\u001b[0;31m                                         validation_steps=validation_steps)\n\u001b[0m\u001b[1;32m   1038\u001b[0m \u001b[0;34m\u001b[0m\u001b[0m\n\u001b[1;32m   1039\u001b[0m     def evaluate(self, x=None, y=None,\n",
      "\u001b[0;32m~/.local/lib/python3.5/site-packages/keras/engine/training_arrays.py\u001b[0m in \u001b[0;36mfit_loop\u001b[0;34m(model, f, ins, out_labels, batch_size, epochs, verbose, callbacks, val_f, val_ins, shuffle, callback_metrics, initial_epoch, steps_per_epoch, validation_steps)\u001b[0m\n\u001b[1;32m    197\u001b[0m                     \u001b[0mins_batch\u001b[0m\u001b[0;34m[\u001b[0m\u001b[0mi\u001b[0m\u001b[0;34m]\u001b[0m \u001b[0;34m=\u001b[0m \u001b[0mins_batch\u001b[0m\u001b[0;34m[\u001b[0m\u001b[0mi\u001b[0m\u001b[0;34m]\u001b[0m\u001b[0;34m.\u001b[0m\u001b[0mtoarray\u001b[0m\u001b[0;34m(\u001b[0m\u001b[0;34m)\u001b[0m\u001b[0;34m\u001b[0m\u001b[0m\n\u001b[1;32m    198\u001b[0m \u001b[0;34m\u001b[0m\u001b[0m\n\u001b[0;32m--> 199\u001b[0;31m                 \u001b[0mouts\u001b[0m \u001b[0;34m=\u001b[0m \u001b[0mf\u001b[0m\u001b[0;34m(\u001b[0m\u001b[0mins_batch\u001b[0m\u001b[0;34m)\u001b[0m\u001b[0;34m\u001b[0m\u001b[0m\n\u001b[0m\u001b[1;32m    200\u001b[0m                 \u001b[0mouts\u001b[0m \u001b[0;34m=\u001b[0m \u001b[0mto_list\u001b[0m\u001b[0;34m(\u001b[0m\u001b[0mouts\u001b[0m\u001b[0;34m)\u001b[0m\u001b[0;34m\u001b[0m\u001b[0m\n\u001b[1;32m    201\u001b[0m                 \u001b[0;32mfor\u001b[0m \u001b[0ml\u001b[0m\u001b[0;34m,\u001b[0m \u001b[0mo\u001b[0m \u001b[0;32min\u001b[0m \u001b[0mzip\u001b[0m\u001b[0;34m(\u001b[0m\u001b[0mout_labels\u001b[0m\u001b[0;34m,\u001b[0m \u001b[0mouts\u001b[0m\u001b[0;34m)\u001b[0m\u001b[0;34m:\u001b[0m\u001b[0;34m\u001b[0m\u001b[0m\n",
      "\u001b[0;32m~/.local/lib/python3.5/site-packages/keras/backend/tensorflow_backend.py\u001b[0m in \u001b[0;36m__call__\u001b[0;34m(self, inputs)\u001b[0m\n\u001b[1;32m   2664\u001b[0m                 \u001b[0;32mreturn\u001b[0m \u001b[0mself\u001b[0m\u001b[0;34m.\u001b[0m\u001b[0m_legacy_call\u001b[0m\u001b[0;34m(\u001b[0m\u001b[0minputs\u001b[0m\u001b[0;34m)\u001b[0m\u001b[0;34m\u001b[0m\u001b[0m\n\u001b[1;32m   2665\u001b[0m \u001b[0;34m\u001b[0m\u001b[0m\n\u001b[0;32m-> 2666\u001b[0;31m             \u001b[0;32mreturn\u001b[0m \u001b[0mself\u001b[0m\u001b[0;34m.\u001b[0m\u001b[0m_call\u001b[0m\u001b[0;34m(\u001b[0m\u001b[0minputs\u001b[0m\u001b[0;34m)\u001b[0m\u001b[0;34m\u001b[0m\u001b[0m\n\u001b[0m\u001b[1;32m   2667\u001b[0m         \u001b[0;32melse\u001b[0m\u001b[0;34m:\u001b[0m\u001b[0;34m\u001b[0m\u001b[0m\n\u001b[1;32m   2668\u001b[0m             \u001b[0;32mif\u001b[0m \u001b[0mpy_any\u001b[0m\u001b[0;34m(\u001b[0m\u001b[0mis_tensor\u001b[0m\u001b[0;34m(\u001b[0m\u001b[0mx\u001b[0m\u001b[0;34m)\u001b[0m \u001b[0;32mfor\u001b[0m \u001b[0mx\u001b[0m \u001b[0;32min\u001b[0m \u001b[0minputs\u001b[0m\u001b[0;34m)\u001b[0m\u001b[0;34m:\u001b[0m\u001b[0;34m\u001b[0m\u001b[0m\n",
      "\u001b[0;32m~/.local/lib/python3.5/site-packages/keras/backend/tensorflow_backend.py\u001b[0m in \u001b[0;36m_call\u001b[0;34m(self, inputs)\u001b[0m\n\u001b[1;32m   2634\u001b[0m                                 \u001b[0msymbol_vals\u001b[0m\u001b[0;34m,\u001b[0m\u001b[0;34m\u001b[0m\u001b[0m\n\u001b[1;32m   2635\u001b[0m                                 session)\n\u001b[0;32m-> 2636\u001b[0;31m         \u001b[0mfetched\u001b[0m \u001b[0;34m=\u001b[0m \u001b[0mself\u001b[0m\u001b[0;34m.\u001b[0m\u001b[0m_callable_fn\u001b[0m\u001b[0;34m(\u001b[0m\u001b[0;34m*\u001b[0m\u001b[0marray_vals\u001b[0m\u001b[0;34m)\u001b[0m\u001b[0;34m\u001b[0m\u001b[0m\n\u001b[0m\u001b[1;32m   2637\u001b[0m         \u001b[0;32mreturn\u001b[0m \u001b[0mfetched\u001b[0m\u001b[0;34m[\u001b[0m\u001b[0;34m:\u001b[0m\u001b[0mlen\u001b[0m\u001b[0;34m(\u001b[0m\u001b[0mself\u001b[0m\u001b[0;34m.\u001b[0m\u001b[0moutputs\u001b[0m\u001b[0;34m)\u001b[0m\u001b[0;34m]\u001b[0m\u001b[0;34m\u001b[0m\u001b[0m\n\u001b[1;32m   2638\u001b[0m \u001b[0;34m\u001b[0m\u001b[0m\n",
      "\u001b[0;32m~/.local/lib/python3.5/site-packages/tensorflow/python/client/session.py\u001b[0m in \u001b[0;36m__call__\u001b[0;34m(self, *args, **kwargs)\u001b[0m\n\u001b[1;32m   1380\u001b[0m           ret = tf_session.TF_SessionRunCallable(\n\u001b[1;32m   1381\u001b[0m               \u001b[0mself\u001b[0m\u001b[0;34m.\u001b[0m\u001b[0m_session\u001b[0m\u001b[0;34m.\u001b[0m\u001b[0m_session\u001b[0m\u001b[0;34m,\u001b[0m \u001b[0mself\u001b[0m\u001b[0;34m.\u001b[0m\u001b[0m_handle\u001b[0m\u001b[0;34m,\u001b[0m \u001b[0margs\u001b[0m\u001b[0;34m,\u001b[0m \u001b[0mstatus\u001b[0m\u001b[0;34m,\u001b[0m\u001b[0;34m\u001b[0m\u001b[0m\n\u001b[0;32m-> 1382\u001b[0;31m               run_metadata_ptr)\n\u001b[0m\u001b[1;32m   1383\u001b[0m         \u001b[0;32mif\u001b[0m \u001b[0mrun_metadata\u001b[0m\u001b[0;34m:\u001b[0m\u001b[0;34m\u001b[0m\u001b[0m\n\u001b[1;32m   1384\u001b[0m           \u001b[0mproto_data\u001b[0m \u001b[0;34m=\u001b[0m \u001b[0mtf_session\u001b[0m\u001b[0;34m.\u001b[0m\u001b[0mTF_GetBuffer\u001b[0m\u001b[0;34m(\u001b[0m\u001b[0mrun_metadata_ptr\u001b[0m\u001b[0;34m)\u001b[0m\u001b[0;34m\u001b[0m\u001b[0m\n",
      "\u001b[0;31mKeyboardInterrupt\u001b[0m: "
     ]
    }
   ],
   "source": [
    "history = model.fit(sentences_as_indices, y_train,\n",
    "                    batch_size=15,\n",
    "                    epochs=30,\n",
    "                    verbose=1,\n",
    "                    validation_split=0.1)"
   ]
  },
  {
   "cell_type": "markdown",
   "metadata": {},
   "source": [
    "#### evaluate"
   ]
  },
  {
   "cell_type": "code",
   "execution_count": 51,
   "metadata": {},
   "outputs": [],
   "source": [
    "sentences_test = df_test.text.tolist()"
   ]
  },
  {
   "cell_type": "code",
   "execution_count": 53,
   "metadata": {},
   "outputs": [],
   "source": [
    "sentences_as_indices_test = np.zeros((len(sentences_test), sentence_max_len))"
   ]
  },
  {
   "cell_type": "code",
   "execution_count": 54,
   "metadata": {},
   "outputs": [
    {
     "name": "stdout",
     "output_type": "stream",
     "text": [
      "2679/2679 [==============================] - 420s 157ms/step\n"
     ]
    }
   ],
   "source": [
    "score = model.evaluate(sentences_as_indices_test, y_test, batch_size=25, verbose=1)"
   ]
  },
  {
   "cell_type": "code",
   "execution_count": 56,
   "metadata": {},
   "outputs": [
    {
     "name": "stdout",
     "output_type": "stream",
     "text": [
      "Test accuracy: 0.9296612610964687\n"
     ]
    }
   ],
   "source": [
    "print('Test accuracy:', score[1])"
   ]
  }
 ],
 "metadata": {
  "kernelspec": {
   "display_name": "Python 3",
   "language": "python",
   "name": "python3"
  },
  "language_info": {
   "codemirror_mode": {
    "name": "ipython",
    "version": 3
   },
   "file_extension": ".py",
   "mimetype": "text/x-python",
   "name": "python",
   "nbconvert_exporter": "python",
   "pygments_lexer": "ipython3",
   "version": "3.5.2"
  }
 },
 "nbformat": 4,
 "nbformat_minor": 2
}
